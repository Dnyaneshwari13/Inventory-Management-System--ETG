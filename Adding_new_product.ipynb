{
  "nbformat": 4,
  "nbformat_minor": 0,
  "metadata": {
    "colab": {
      "name": "Adding new product.ipynb",
      "provenance": []
    },
    "kernelspec": {
      "name": "python3",
      "display_name": "Python 3"
    },
    "language_info": {
      "name": "python"
    }
  },
  "cells": [
    {
      "cell_type": "code",
      "metadata": {
        "id": "p1Z6_Qi3UAyR"
      },
      "source": [
        "Record = {1001:{\"name\":'cake', \"category\":'Bakery product', \"Price\":200, \"Quantity\":50, \"Weight\":'250gm'},\n",
        "          1002:{\"name\":'Mango pestry', \"category\":'Bakery product', \"Price\":70, \"Quantity\":30, \"Weight\":'50gm'},\n",
        "          1003:{\"name\":'chocolate cake', \"category\":'Bakery product', \"Price\":300, \"Quantity\":35, \"Weight\":'250gm'},\n",
        "          1004:{\"name\":'Bread', \"category\":'Bakery product', \"Price\":50, \"Quantity\":50, \"Weight\":'100gm'},\n",
        "          1005:{\"name\":'Cup cake', \"category\":'Bakery product', \"Price\":60, \"Quantity\":20, \"Weight\":'10gm'},\n",
        "          1006:{\"name\":'Burger', \"category\":'Fast food', \"Price\":80, \"Quantity\":25, \"Weight\":'100gm'},\n",
        "          1007:{\"name\":'pizza', \"category\":'Fast food', \"Price\":100, \"Quantity\":25, \"Weight\":'100gm'},\n",
        "          1008:{\"name\":'Sandwitch', \"category\":'Fast food', \"Price\":70, \"Quantity\":20, \"Weight\":'150gm'},\n",
        "          1009:{\"name\":'Cofee', \"category\":'Drink', \"Price\":20, \"Quantity\":200, \"Weight\":'20gm'},\n",
        "          1010:{\"name\":'chiken Burger', \"category\":'Fast food', \"Price\":150, \"Quantity\":25, \"Weight\":'150gm'},}"
      ],
      "execution_count": 16,
      "outputs": []
    },
    {
      "cell_type": "code",
      "metadata": {
        "id": "0atKKpwlWUv-"
      },
      "source": [
        "import json\n"
      ],
      "execution_count": 17,
      "outputs": []
    },
    {
      "cell_type": "code",
      "metadata": {
        "id": "61NtUFLtWU1S"
      },
      "source": [
        "js= json.dumps(Record)"
      ],
      "execution_count": 18,
      "outputs": []
    },
    {
      "cell_type": "code",
      "metadata": {
        "id": "zbgsrtQsWfXj"
      },
      "source": [
        "fd= open(\"Record.json\",'w')\n",
        "fd.write(js)\n",
        "fd.close()"
      ],
      "execution_count": 19,
      "outputs": []
    },
    {
      "cell_type": "code",
      "metadata": {
        "id": "cG_kPpQnWfdS"
      },
      "source": [
        "fd= open(\"Record.json\",'r')\n",
        "r= fd.read()\n",
        "fd.close()\n",
        "Record= json.loads(r)\n"
      ],
      "execution_count": 20,
      "outputs": []
    },
    {
      "cell_type": "code",
      "metadata": {
        "colab": {
          "base_uri": "https://localhost:8080/"
        },
        "id": "H7GBxQWSXxZh",
        "outputId": "25c6e5ca-e10c-4fba-c4c9-e56108c04a2b"
      },
      "source": [
        "Record"
      ],
      "execution_count": 21,
      "outputs": [
        {
          "output_type": "execute_result",
          "data": {
            "text/plain": [
              "{'1001': {'Price': 200,\n",
              "  'Quantity': 50,\n",
              "  'Weight': '250gm',\n",
              "  'category': 'Bakery product',\n",
              "  'name': 'cake'},\n",
              " '1002': {'Price': 70,\n",
              "  'Quantity': 30,\n",
              "  'Weight': '50gm',\n",
              "  'category': 'Bakery product',\n",
              "  'name': 'Mango pestry'},\n",
              " '1003': {'Price': 300,\n",
              "  'Quantity': 35,\n",
              "  'Weight': '250gm',\n",
              "  'category': 'Bakery product',\n",
              "  'name': 'chocolate cake'},\n",
              " '1004': {'Price': 50,\n",
              "  'Quantity': 50,\n",
              "  'Weight': '100gm',\n",
              "  'category': 'Bakery product',\n",
              "  'name': 'Bread'},\n",
              " '1005': {'Price': 60,\n",
              "  'Quantity': 20,\n",
              "  'Weight': '10gm',\n",
              "  'category': 'Bakery product',\n",
              "  'name': 'Cup cake'},\n",
              " '1006': {'Price': 80,\n",
              "  'Quantity': 25,\n",
              "  'Weight': '100gm',\n",
              "  'category': 'Fast food',\n",
              "  'name': 'Burger'},\n",
              " '1007': {'Price': 100,\n",
              "  'Quantity': 25,\n",
              "  'Weight': '100gm',\n",
              "  'category': 'Fast food',\n",
              "  'name': 'pizza'},\n",
              " '1008': {'Price': 70,\n",
              "  'Quantity': 20,\n",
              "  'Weight': '150gm',\n",
              "  'category': 'Fast food',\n",
              "  'name': 'Sandwitch'},\n",
              " '1009': {'Price': 20,\n",
              "  'Quantity': 200,\n",
              "  'Weight': '20gm',\n",
              "  'category': 'Drink',\n",
              "  'name': 'Cofee'},\n",
              " '1010': {'Price': 150,\n",
              "  'Quantity': 25,\n",
              "  'Weight': '150gm',\n",
              "  'category': 'Fast food',\n",
              "  'name': 'chiken Burger'}}"
            ]
          },
          "metadata": {},
          "execution_count": 21
        }
      ]
    },
    {
      "cell_type": "markdown",
      "metadata": {
        "id": "mr0cbx4HX7Vt"
      },
      "source": [
        "#Addding New Products"
      ]
    },
    {
      "cell_type": "code",
      "metadata": {
        "colab": {
          "base_uri": "https://localhost:8080/"
        },
        "id": "4p_yKqEPX6XE",
        "outputId": "d299fbb0-5934-4050-f451-fb861a414956"
      },
      "source": [
        "prod_id = (input(\"Enter a product id: \"))\n",
        "name= (input(\"Enter a product name: \"))\n",
        "cg = (input(\"Enter a product category: \"))\n",
        "pr = (input(\"Enter a product price: \"))\n",
        "quan = (input(\"Enter a product Quantity: \"))\n",
        "sz= (input(\"Enter a product size: \"))\n",
        "Record[prod_id] = {\"name\": name, \"category\":cg, \"Price\":pr, \"Quantity\":quan, \"Weight\":sz}\n",
        "\n",
        "js = json.dumps(Record)\n",
        "\n",
        "fd= open(\"Record.json\",'w')\n",
        "fd.write(js)\n",
        "fd.close()"
      ],
      "execution_count": 61,
      "outputs": [
        {
          "name": "stdout",
          "output_type": "stream",
          "text": [
            "Enter a product id: 1030\n",
            "Enter a product name: Butterscotch icecream\n",
            "Enter a product category: Dessert\n",
            "Enter a product price: 30\n",
            "Enter a product Quantity: 40\n",
            "Enter a product size: 20gm\n"
          ]
        }
      ]
    },
    {
      "cell_type": "code",
      "metadata": {
        "colab": {
          "base_uri": "https://localhost:8080/"
        },
        "id": "45iDKfu1Y0R_",
        "outputId": "a913966d-be62-44fa-b0c9-00696c3eb316"
      },
      "source": [
        "Record"
      ],
      "execution_count": 62,
      "outputs": [
        {
          "output_type": "execute_result",
          "data": {
            "text/plain": [
              "{'1001': {'Price': 200,\n",
              "  'Quantity': 50,\n",
              "  'Weight': '250gm',\n",
              "  'category': 'Bakery product',\n",
              "  'name': 'cake'},\n",
              " '1002': {'Price': 70,\n",
              "  'Quantity': 30,\n",
              "  'Weight': '50gm',\n",
              "  'category': 'Bakery product',\n",
              "  'name': 'Mango pestry'},\n",
              " '1003': {'Price': 300,\n",
              "  'Quantity': 35,\n",
              "  'Weight': '250gm',\n",
              "  'category': 'Bakery product',\n",
              "  'name': 'chocolate cake'},\n",
              " '1004': {'Price': 50,\n",
              "  'Quantity': 50,\n",
              "  'Weight': '100gm',\n",
              "  'category': 'Bakery product',\n",
              "  'name': 'Bread'},\n",
              " '1005': {'Price': 60,\n",
              "  'Quantity': 20,\n",
              "  'Weight': '10gm',\n",
              "  'category': 'Bakery product',\n",
              "  'name': 'Cup cake'},\n",
              " '1006': {'Price': 80,\n",
              "  'Quantity': 25,\n",
              "  'Weight': '100gm',\n",
              "  'category': 'Fast food',\n",
              "  'name': 'Burger'},\n",
              " '1007': {'Price': 100,\n",
              "  'Quantity': 25,\n",
              "  'Weight': '100gm',\n",
              "  'category': 'Fast food',\n",
              "  'name': 'pizza'},\n",
              " '1008': {'Price': 70,\n",
              "  'Quantity': 20,\n",
              "  'Weight': '150gm',\n",
              "  'category': 'Fast food',\n",
              "  'name': 'Sandwitch'},\n",
              " '1009': {'Price': 20,\n",
              "  'Quantity': 200,\n",
              "  'Weight': '20gm',\n",
              "  'category': 'Drink',\n",
              "  'name': 'Cofee'},\n",
              " '1010': {'Price': 150,\n",
              "  'Quantity': 25,\n",
              "  'Weight': '150gm',\n",
              "  'category': 'Fast food',\n",
              "  'name': 'chiken Burger'},\n",
              " '1011': {'Price': '40',\n",
              "  'Quantity': '50',\n",
              "  'Weight': '25gm',\n",
              "  'category': 'cadburry',\n",
              "  'name': 'Dairymilk'},\n",
              " '1012': {'Price': '60',\n",
              "  'Quantity': '60',\n",
              "  'Weight': '100gm',\n",
              "  'category': 'Fast Food',\n",
              "  'name': 'Momos'},\n",
              " '1013': {'Price': '100',\n",
              "  'Quantity': '50',\n",
              "  'Weight': '150gm',\n",
              "  'category': 'Fast Food',\n",
              "  'name': 'Chiken Momos'},\n",
              " '1014': {'Price': '20',\n",
              "  'Quantity': '40',\n",
              "  'Weight': '50gm',\n",
              "  'category': 'Fast Food',\n",
              "  'name': 'Maggie'},\n",
              " '1015': {'Price': '70',\n",
              "  'Quantity': '40',\n",
              "  'Weight': '100gm',\n",
              "  'category': 'Fast Food',\n",
              "  'name': 'Grilled Sandwitch'},\n",
              " '1016': {'Price': '40',\n",
              "  'Quantity': '50',\n",
              "  'Weight': '100gm',\n",
              "  'category': 'Fast Food',\n",
              "  'name': ' Hakka Noodles'},\n",
              " '1017': {'Price': '25',\n",
              "  'Quantity': '60',\n",
              "  'Weight': '75gm',\n",
              "  'category': 'Snack',\n",
              "  'name': 'Panipuri'},\n",
              " '1018': {'Price': '10',\n",
              "  'Quantity': '60',\n",
              "  'Weight': '50gm',\n",
              "  'category': 'Snack',\n",
              "  'name': 'Samosa'},\n",
              " '1019': {'Price': '15',\n",
              "  'Quantity': '60',\n",
              "  'Weight': '50gm',\n",
              "  'category': 'Our Speciality',\n",
              "  'name': 'Vadapav'},\n",
              " '1020': {'Price': '50',\n",
              "  'Quantity': '60',\n",
              "  'Weight': '250gm',\n",
              "  'category': 'Our Speciality',\n",
              "  'name': 'Misalpav'},\n",
              " '1021': {'Price': '40',\n",
              "  'Quantity': '100',\n",
              "  'Weight': '40gm',\n",
              "  'category': 'Drink',\n",
              "  'name': 'Cold cofee'},\n",
              " '1022': {'Price': '40',\n",
              "  'Quantity': '60',\n",
              "  'Weight': '50gm',\n",
              "  'category': 'cold drink',\n",
              "  'name': 'Milk shake'},\n",
              " '1023': {'Price': '50',\n",
              "  'Quantity': '90',\n",
              "  'Weight': '1ltr',\n",
              "  'category': 'cold drink',\n",
              "  'name': 'Fanta'},\n",
              " '1024': {'Price': '70',\n",
              "  'Quantity': '70',\n",
              "  'Weight': '1ltr',\n",
              "  'category': 'cold drink',\n",
              "  'name': 'Thumbs up'},\n",
              " '1025': {'Price': '50',\n",
              "  'Quantity': '60',\n",
              "  'Weight': '1ltr',\n",
              "  'category': 'cold drink',\n",
              "  'name': 'Sprite'},\n",
              " '1026': {'Price': '40',\n",
              "  'Quantity': '30',\n",
              "  'Weight': '1ltr',\n",
              "  'category': 'Drink',\n",
              "  'name': 'Milk'},\n",
              " '1027': {'Price': '10',\n",
              "  'Quantity': '50',\n",
              "  'Weight': '10gm',\n",
              "  'category': 'drink',\n",
              "  'name': 'Tea'},\n",
              " '1028': {'Price': '25',\n",
              "  'Quantity': '50',\n",
              "  'Weight': '20gm',\n",
              "  'category': 'Dessert',\n",
              "  'name': 'Vanilla icecream'},\n",
              " '1029': {'Price': '30',\n",
              "  'Quantity': '50',\n",
              "  'Weight': '20gm',\n",
              "  'category': 'Dessert',\n",
              "  'name': 'Mango icecream'},\n",
              " '1030': {'Price': '30',\n",
              "  'Quantity': '40',\n",
              "  'Weight': '20gm',\n",
              "  'category': 'Dessert',\n",
              "  'name': 'Butterscotch icecream'}}"
            ]
          },
          "metadata": {},
          "execution_count": 62
        }
      ]
    }
  ]
}