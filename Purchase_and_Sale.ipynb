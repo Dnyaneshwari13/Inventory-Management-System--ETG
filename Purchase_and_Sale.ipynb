{
  "nbformat": 4,
  "nbformat_minor": 0,
  "metadata": {
    "colab": {
      "name": "Purchase and Sale.ipynb",
      "provenance": [],
      "collapsed_sections": []
    },
    "kernelspec": {
      "name": "python3",
      "display_name": "Python 3"
    },
    "language_info": {
      "name": "python"
    }
  },
  "cells": [
    {
      "cell_type": "markdown",
      "metadata": {
        "id": "hVCpq7Bqe-OT"
      },
      "source": [
        "#Read File"
      ]
    },
    {
      "cell_type": "code",
      "metadata": {
        "id": "QyIR109qfI5x"
      },
      "source": [
        "import json\n"
      ],
      "execution_count": 69,
      "outputs": []
    },
    {
      "cell_type": "code",
      "metadata": {
        "id": "MAio_4D9g0Il"
      },
      "source": [
        "fd= open(\"/content/Record .json\",'r')\n",
        "r= fd.read()\n",
        "fd.close()"
      ],
      "execution_count": 70,
      "outputs": []
    },
    {
      "cell_type": "code",
      "metadata": {
        "id": "2RW3NsJ6hRi7"
      },
      "source": [
        "Record= json.loads(r)"
      ],
      "execution_count": 71,
      "outputs": []
    },
    {
      "cell_type": "code",
      "metadata": {
        "colab": {
          "base_uri": "https://localhost:8080/"
        },
        "id": "TIRP22UzhkNT",
        "outputId": "b20d1c5a-52ec-4dce-fa6a-56b4cd792688"
      },
      "source": [
        "Record"
      ],
      "execution_count": 72,
      "outputs": [
        {
          "output_type": "execute_result",
          "data": {
            "text/plain": [
              "{'1001': {'Price': 200,\n",
              "  'Quantity': 50,\n",
              "  'Weight': '250gm',\n",
              "  'category': 'Bakery product',\n",
              "  'name': 'cake'},\n",
              " '1002': {'Price': 70,\n",
              "  'Quantity': 30,\n",
              "  'Weight': '50gm',\n",
              "  'category': 'Bakery product',\n",
              "  'name': 'Mango pestry'},\n",
              " '1003': {'Price': 300,\n",
              "  'Quantity': 35,\n",
              "  'Weight': '250gm',\n",
              "  'category': 'Bakery product',\n",
              "  'name': 'chocolate cake'},\n",
              " '1004': {'Price': 50,\n",
              "  'Quantity': 50,\n",
              "  'Weight': '100gm',\n",
              "  'category': 'Bakery product',\n",
              "  'name': 'Bread'},\n",
              " '1005': {'Price': 60,\n",
              "  'Quantity': 20,\n",
              "  'Weight': '10gm',\n",
              "  'category': 'Bakery product',\n",
              "  'name': 'Cup cake'},\n",
              " '1006': {'Price': 80,\n",
              "  'Quantity': 25,\n",
              "  'Weight': '100gm',\n",
              "  'category': 'Fast food',\n",
              "  'name': 'Burger'},\n",
              " '1007': {'Price': 100,\n",
              "  'Quantity': 25,\n",
              "  'Weight': '100gm',\n",
              "  'category': 'Fast food',\n",
              "  'name': 'pizza'},\n",
              " '1008': {'Price': 70,\n",
              "  'Quantity': 20,\n",
              "  'Weight': '150gm',\n",
              "  'category': 'Fast food',\n",
              "  'name': 'Sandwitch'},\n",
              " '1009': {'Price': 20,\n",
              "  'Quantity': 200,\n",
              "  'Weight': '20gm',\n",
              "  'category': 'Drink',\n",
              "  'name': 'Cofee'},\n",
              " '1010': {'Price': 150,\n",
              "  'Quantity': 25,\n",
              "  'Weight': '150gm',\n",
              "  'category': 'Fast food',\n",
              "  'name': 'chiken Burger'},\n",
              " '1011': {'Price': '40',\n",
              "  'Quantity': '50',\n",
              "  'Weight': '25gm',\n",
              "  'category': 'cadburry',\n",
              "  'name': 'Dairymilk'},\n",
              " '1012': {'Price': '60',\n",
              "  'Quantity': '60',\n",
              "  'Weight': '100gm',\n",
              "  'category': 'Fast Food',\n",
              "  'name': 'Momos'},\n",
              " '1013': {'Price': '100',\n",
              "  'Quantity': '50',\n",
              "  'Weight': '150gm',\n",
              "  'category': 'Fast Food',\n",
              "  'name': 'Chiken Momos'},\n",
              " '1014': {'Price': '20',\n",
              "  'Quantity': '40',\n",
              "  'Weight': '50gm',\n",
              "  'category': 'Fast Food',\n",
              "  'name': 'Maggie'},\n",
              " '1015': {'Price': '70',\n",
              "  'Quantity': '40',\n",
              "  'Weight': '100gm',\n",
              "  'category': 'Fast Food',\n",
              "  'name': 'Grilled Sandwitch'},\n",
              " '1016': {'Price': '40',\n",
              "  'Quantity': '50',\n",
              "  'Weight': '100gm',\n",
              "  'category': 'Fast Food',\n",
              "  'name': ' Hakka Noodles'},\n",
              " '1017': {'Price': '25',\n",
              "  'Quantity': '60',\n",
              "  'Weight': '75gm',\n",
              "  'category': 'Snack',\n",
              "  'name': 'Panipuri'},\n",
              " '1018': {'Price': '10',\n",
              "  'Quantity': '60',\n",
              "  'Weight': '50gm',\n",
              "  'category': 'Snack',\n",
              "  'name': 'Samosa'},\n",
              " '1019': {'Price': '15',\n",
              "  'Quantity': '60',\n",
              "  'Weight': '50gm',\n",
              "  'category': 'Our Speciality',\n",
              "  'name': 'Vadapav'},\n",
              " '1020': {'Price': '50',\n",
              "  'Quantity': '60',\n",
              "  'Weight': '250gm',\n",
              "  'category': 'Our Speciality',\n",
              "  'name': 'Misalpav'},\n",
              " '1021': {'Price': '40',\n",
              "  'Quantity': '100',\n",
              "  'Weight': '40gm',\n",
              "  'category': 'Drink',\n",
              "  'name': 'Cold cofee'},\n",
              " '1022': {'Price': '40',\n",
              "  'Quantity': '60',\n",
              "  'Weight': '50gm',\n",
              "  'category': 'cold drink',\n",
              "  'name': 'Milk shake'},\n",
              " '1023': {'Price': '50',\n",
              "  'Quantity': '90',\n",
              "  'Weight': '1ltr',\n",
              "  'category': 'cold drink',\n",
              "  'name': 'Fanta'},\n",
              " '1024': {'Price': '70',\n",
              "  'Quantity': '70',\n",
              "  'Weight': '1ltr',\n",
              "  'category': 'cold drink',\n",
              "  'name': 'Thumbs up'},\n",
              " '1025': {'Price': '50',\n",
              "  'Quantity': '60',\n",
              "  'Weight': '1ltr',\n",
              "  'category': 'cold drink',\n",
              "  'name': 'Sprite'},\n",
              " '1026': {'Price': '40',\n",
              "  'Quantity': '30',\n",
              "  'Weight': '1ltr',\n",
              "  'category': 'Drink',\n",
              "  'name': 'Milk'},\n",
              " '1027': {'Price': '10',\n",
              "  'Quantity': '50',\n",
              "  'Weight': '10gm',\n",
              "  'category': 'drink',\n",
              "  'name': 'Tea'},\n",
              " '1028': {'Price': '25',\n",
              "  'Quantity': '50',\n",
              "  'Weight': '20gm',\n",
              "  'category': 'Dessert',\n",
              "  'name': 'Vanilla icecream'},\n",
              " '1029': {'Price': '30',\n",
              "  'Quantity': '50',\n",
              "  'Weight': '20gm',\n",
              "  'category': 'Dessert',\n",
              "  'name': 'Mango icecream'},\n",
              " '1030': {'Price': '30',\n",
              "  'Quantity': '40',\n",
              "  'Weight': '20gm',\n",
              "  'category': 'Dessert',\n",
              "  'name': 'Butterscotch icecream'}}"
            ]
          },
          "metadata": {},
          "execution_count": 72
        }
      ]
    },
    {
      "cell_type": "markdown",
      "metadata": {
        "id": "4VMmqvoXiGxT"
      },
      "source": [
        "#Purchase"
      ]
    },
    {
      "cell_type": "code",
      "metadata": {
        "colab": {
          "base_uri": "https://localhost:8080/"
        },
        "id": "ctW13uRniKTA",
        "outputId": "38ac00b4-bfee-4d8b-a825-c35576a3ed61"
      },
      "source": [
        "ui_prod_id = (input(\"Enter product id:\"))\n",
        "if (int(ui_prod_id)<= 1030):\n",
        "  print (\"************************************************\")\n",
        "  print (\"product available\")\n",
        "  print (\"__________________________________________________\")\n",
        "  \n",
        "  ui_quant= int(input(\"Enter Quantity\"))\n",
        "  if ( ui_quant <= int(Record[ui_prod_id][\"Quantity\"])):\n",
        "    print (\"Product Name:\",Record[ui_prod_id][\"name\"])\n",
        "    print (\"Product Category:\",Record[ui_prod_id][\"category\"])\n",
        "    print (\"Product price:\",Record[ui_prod_id][\"Price\"])\n",
        "    print (\"Product weight:\",Record[ui_prod_id][\"Weight\"])\n",
        "    print (\"Quantity:\", ui_quant)\n",
        "    print (\"___________________________________________________\")\n",
        "    print (\"Billing Amount\",ui_quant* int(Record[ui_prod_id][\"Price\"]))\n",
        "    print (\"************************************************\")\n",
        "  else:\n",
        "    print (\"Available quantity is less than ordered one\")\n",
        "else:\n",
        "  print (\"product id is not valid\")\n",
        "\n",
        " \n",
        "  "
      ],
      "execution_count": 121,
      "outputs": [
        {
          "output_type": "stream",
          "name": "stdout",
          "text": [
            "Enter product id:1025\n",
            "************************************************\n",
            "product available\n",
            "__________________________________________________\n",
            "Enter Quantity5\n",
            "Product Name: Sprite\n",
            "Product Category: cold drink\n",
            "Product price: 50\n",
            "Product weight: 1ltr\n",
            "Quantity: 5\n",
            "___________________________________________________\n",
            "Billing Amount 250\n",
            "************************************************\n"
          ]
        }
      ]
    },
    {
      "cell_type": "code",
      "metadata": {
        "id": "LOmBbjHxiK-A"
      },
      "source": [
        "Record[ui_prod_id][\"Quantity\"]=  int(Record[ui_prod_id][\"Quantity\"])- ui_quant\n",
        "js = json.dumps(Record)\n",
        "\n",
        "fd= open(\"Record.json\",'w')\n",
        "fd.write(js)\n",
        "fd.close()"
      ],
      "execution_count": 122,
      "outputs": []
    },
    {
      "cell_type": "code",
      "metadata": {
        "colab": {
          "base_uri": "https://localhost:8080/"
        },
        "id": "u-2MZ1Raq5gK",
        "outputId": "80ec2b1c-4f62-4de3-89f5-77e960c130c7"
      },
      "source": [
        "Record"
      ],
      "execution_count": 123,
      "outputs": [
        {
          "output_type": "execute_result",
          "data": {
            "text/plain": [
              "{'1001': {'Price': 200,\n",
              "  'Quantity': 42,\n",
              "  'Weight': '250gm',\n",
              "  'category': 'Bakery product',\n",
              "  'name': 'cake'},\n",
              " '1002': {'Price': 70,\n",
              "  'Quantity': 30,\n",
              "  'Weight': '50gm',\n",
              "  'category': 'Bakery product',\n",
              "  'name': 'Mango pestry'},\n",
              " '1003': {'Price': 300,\n",
              "  'Quantity': 31,\n",
              "  'Weight': '250gm',\n",
              "  'category': 'Bakery product',\n",
              "  'name': 'chocolate cake'},\n",
              " '1004': {'Price': 50,\n",
              "  'Quantity': 50,\n",
              "  'Weight': '100gm',\n",
              "  'category': 'Bakery product',\n",
              "  'name': 'Bread'},\n",
              " '1005': {'Price': 60,\n",
              "  'Quantity': 20,\n",
              "  'Weight': '10gm',\n",
              "  'category': 'Bakery product',\n",
              "  'name': 'Cup cake'},\n",
              " '1006': {'Price': 80,\n",
              "  'Quantity': 25,\n",
              "  'Weight': '100gm',\n",
              "  'category': 'Fast food',\n",
              "  'name': 'Burger'},\n",
              " '1007': {'Price': 100,\n",
              "  'Quantity': 25,\n",
              "  'Weight': '100gm',\n",
              "  'category': 'Fast food',\n",
              "  'name': 'pizza'},\n",
              " '1008': {'Price': 70,\n",
              "  'Quantity': 13,\n",
              "  'Weight': '150gm',\n",
              "  'category': 'Fast food',\n",
              "  'name': 'Sandwitch'},\n",
              " '1009': {'Price': 20,\n",
              "  'Quantity': 200,\n",
              "  'Weight': '20gm',\n",
              "  'category': 'Drink',\n",
              "  'name': 'Cofee'},\n",
              " '1010': {'Price': 150,\n",
              "  'Quantity': 15,\n",
              "  'Weight': '150gm',\n",
              "  'category': 'Fast food',\n",
              "  'name': 'chiken Burger'},\n",
              " '1011': {'Price': '40',\n",
              "  'Quantity': '50',\n",
              "  'Weight': '25gm',\n",
              "  'category': 'cadburry',\n",
              "  'name': 'Dairymilk'},\n",
              " '1012': {'Price': '60',\n",
              "  'Quantity': '60',\n",
              "  'Weight': '100gm',\n",
              "  'category': 'Fast Food',\n",
              "  'name': 'Momos'},\n",
              " '1013': {'Price': '100',\n",
              "  'Quantity': '50',\n",
              "  'Weight': '150gm',\n",
              "  'category': 'Fast Food',\n",
              "  'name': 'Chiken Momos'},\n",
              " '1014': {'Price': '20',\n",
              "  'Quantity': 38,\n",
              "  'Weight': '50gm',\n",
              "  'category': 'Fast Food',\n",
              "  'name': 'Maggie'},\n",
              " '1015': {'Price': '70',\n",
              "  'Quantity': '40',\n",
              "  'Weight': '100gm',\n",
              "  'category': 'Fast Food',\n",
              "  'name': 'Grilled Sandwitch'},\n",
              " '1016': {'Price': '40',\n",
              "  'Quantity': 45,\n",
              "  'Weight': '100gm',\n",
              "  'category': 'Fast Food',\n",
              "  'name': ' Hakka Noodles'},\n",
              " '1017': {'Price': '25',\n",
              "  'Quantity': '60',\n",
              "  'Weight': '75gm',\n",
              "  'category': 'Snack',\n",
              "  'name': 'Panipuri'},\n",
              " '1018': {'Price': '10',\n",
              "  'Quantity': '60',\n",
              "  'Weight': '50gm',\n",
              "  'category': 'Snack',\n",
              "  'name': 'Samosa'},\n",
              " '1019': {'Price': '15',\n",
              "  'Quantity': '60',\n",
              "  'Weight': '50gm',\n",
              "  'category': 'Our Speciality',\n",
              "  'name': 'Vadapav'},\n",
              " '1020': {'Price': '50',\n",
              "  'Quantity': '60',\n",
              "  'Weight': '250gm',\n",
              "  'category': 'Our Speciality',\n",
              "  'name': 'Misalpav'},\n",
              " '1021': {'Price': '40',\n",
              "  'Quantity': '100',\n",
              "  'Weight': '40gm',\n",
              "  'category': 'Drink',\n",
              "  'name': 'Cold cofee'},\n",
              " '1022': {'Price': '40',\n",
              "  'Quantity': '60',\n",
              "  'Weight': '50gm',\n",
              "  'category': 'cold drink',\n",
              "  'name': 'Milk shake'},\n",
              " '1023': {'Price': '50',\n",
              "  'Quantity': '90',\n",
              "  'Weight': '1ltr',\n",
              "  'category': 'cold drink',\n",
              "  'name': 'Fanta'},\n",
              " '1024': {'Price': '70',\n",
              "  'Quantity': '70',\n",
              "  'Weight': '1ltr',\n",
              "  'category': 'cold drink',\n",
              "  'name': 'Thumbs up'},\n",
              " '1025': {'Price': '50',\n",
              "  'Quantity': 55,\n",
              "  'Weight': '1ltr',\n",
              "  'category': 'cold drink',\n",
              "  'name': 'Sprite'},\n",
              " '1026': {'Price': '40',\n",
              "  'Quantity': '30',\n",
              "  'Weight': '1ltr',\n",
              "  'category': 'Drink',\n",
              "  'name': 'Milk'},\n",
              " '1027': {'Price': '10',\n",
              "  'Quantity': 44,\n",
              "  'Weight': '10gm',\n",
              "  'category': 'drink',\n",
              "  'name': 'Tea'},\n",
              " '1028': {'Price': '25',\n",
              "  'Quantity': 46,\n",
              "  'Weight': '20gm',\n",
              "  'category': 'Dessert',\n",
              "  'name': 'Vanilla icecream'},\n",
              " '1029': {'Price': '30',\n",
              "  'Quantity': '50',\n",
              "  'Weight': '20gm',\n",
              "  'category': 'Dessert',\n",
              "  'name': 'Mango icecream'},\n",
              " '1030': {'Price': '30',\n",
              "  'Quantity': '40',\n",
              "  'Weight': '20gm',\n",
              "  'category': 'Dessert',\n",
              "  'name': 'Butterscotch icecream'}}"
            ]
          },
          "metadata": {},
          "execution_count": 123
        }
      ]
    },
    {
      "cell_type": "markdown",
      "metadata": {
        "id": "AeZWO4XArEiK"
      },
      "source": [
        "#Sales json"
      ]
    },
    {
      "cell_type": "code",
      "metadata": {
        "id": "hc5P5qy-kPQE"
      },
      "source": [
        "Sales[len(Sales)+1]= {\"prod\": ui_prod_id, \"qn\": ui_quant,\"amount\": int(Record[ui_prod_id][\"Price\"])*ui_quant} "
      ],
      "execution_count": 124,
      "outputs": []
    },
    {
      "cell_type": "code",
      "metadata": {
        "id": "1B4NuHWOrrym"
      },
      "source": [
        "sale= json.dumps(Sales)\n",
        "fd= open(\"Sales.json\",'w')\n",
        "fd.write(sale)\n",
        "fd.close()\n"
      ],
      "execution_count": 125,
      "outputs": []
    },
    {
      "cell_type": "code",
      "metadata": {
        "colab": {
          "base_uri": "https://localhost:8080/"
        },
        "id": "NnWS0TCjjald",
        "outputId": "a9823f1c-6203-496a-8866-e31fdfd97ee7"
      },
      "source": [
        "Sales"
      ],
      "execution_count": 126,
      "outputs": [
        {
          "output_type": "execute_result",
          "data": {
            "text/plain": [
              "{1: {'amount': 400, 'prod': '1006', 'qn': 5},\n",
              " 2: {'amount': 400, 'prod': '1006', 'qn': 5},\n",
              " 3: {'amount': 80, 'prod': '1011', 'qn': 2},\n",
              " 4: {'amount': 210, 'prod': '1002', 'qn': 3},\n",
              " 5: {'amount': 1200, 'prod': '1003', 'qn': 4},\n",
              " 6: {'amount': 60, 'prod': '1027', 'qn': 6},\n",
              " 7: {'amount': 1600, 'prod': '1001', 'qn': 8},\n",
              " 8: {'amount': 490, 'prod': '1008', 'qn': 7},\n",
              " 9: {'amount': 1500, 'prod': '1010', 'qn': 10},\n",
              " 10: {'amount': 40, 'prod': '1014', 'qn': 2},\n",
              " 11: {'amount': 200, 'prod': '1016', 'qn': 5},\n",
              " 12: {'amount': 100, 'prod': '1028', 'qn': 4},\n",
              " 13: {'amount': 250, 'prod': '1025', 'qn': 5}}"
            ]
          },
          "metadata": {},
          "execution_count": 126
        }
      ]
    }
  ]
}